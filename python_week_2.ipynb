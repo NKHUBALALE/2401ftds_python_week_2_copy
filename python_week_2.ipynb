{
 "cells": [
  {
   "cell_type": "markdown",
   "metadata": {},
   "source": [
    "# Python Week 2 Pod Session\n",
    "\n",
    "Lets work with git and github :) \n",
    "\n",
    "As well as some understanding of loops and conditionals. \n",
    "\n",
    "Please ensure you have retrieved this notebook by forking the following repository: https://github.com/marcmarais/2401ftds_python_week_2.git"
   ]
  },
  {
   "cell_type": "markdown",
   "metadata": {},
   "source": [
    "## Fizz, Buzz and FizzBuzz\n",
    "\n",
    "Write a Python program that iterates the integers from 1 to 50. For multiples of three print \"Fizz\" instead of the number and for multiples of five print \"Buzz\". For numbers that are multiples of three and five, print \"FizzBuzz\"."
   ]
  },
  {
   "cell_type": "markdown",
   "metadata": {},
   "source": [
    "#### Step one: Create a for loop that iterates 50 times from interger 1 to 50 and store the values in a list "
   ]
  },
  {
   "cell_type": "code",
   "execution_count": 4,
   "metadata": {},
   "outputs": [
    {
     "name": "stdout",
     "output_type": "stream",
     "text": [
      "[1, 2, 3, 4, 5, 6, 7, 8, 9, 10]\n"
     ]
    }
   ],
   "source": [
    "values = []\n",
    "for i in range(1, 11):  ### Amend the code to make it right\n",
    "    values.append(i)\n",
    "\n",
    "print(values)"
   ]
  },
  {
   "cell_type": "markdown",
   "metadata": {},
   "source": [
    "#### Step 2: Create an if else statement condition to check if the values in a list are multiples of 3 or 5  or both and print the right statements "
   ]
  },
  {
   "cell_type": "code",
   "execution_count": 5,
   "metadata": {},
   "outputs": [
    {
     "name": "stdout",
     "output_type": "stream",
     "text": [
      "\n",
      "\n",
      "\n",
      "\n",
      "\n",
      "\n",
      "\n",
      "\n",
      "\n",
      "\n"
     ]
    }
   ],
   "source": [
    "for value in values:\n",
    "    if value % 3 == 0 and value % 5 == 0:\n",
    "        print(\"\")\n",
    "    elif value % 3 == 0:\n",
    "        print(\"\")\n",
    "    elif value % 5 == 0:\n",
    "        print(\"\")\n",
    "    else:\n",
    "        print(\"\")"
   ]
  },
  {
   "cell_type": "markdown",
   "metadata": {},
   "source": [
    "#### Step 3: Do step 1 and 3 in one single block of code without creating a list but only the for loop and the if statements."
   ]
  },
  {
   "cell_type": "code",
   "execution_count": 6,
   "metadata": {},
   "outputs": [
    {
     "name": "stdout",
     "output_type": "stream",
     "text": [
      "fizz\n",
      "fizz\n",
      "fizz\n",
      "fizz\n",
      "fizz\n",
      "fizz\n",
      "fizz\n",
      "fizz\n",
      "fizz\n",
      "fizz\n",
      "fizz\n",
      "fizz\n",
      "fizz\n",
      "fizz\n",
      "fizz\n",
      "fizz\n"
     ]
    }
   ],
   "source": [
    "for value in range(1, 51):\n",
    "    if value % 3 == 0:\n",
    "        print(\"fizz\")  ### add the elif statements"
   ]
  },
  {
   "cell_type": "code",
   "execution_count": null,
   "metadata": {},
   "outputs": [],
   "source": []
  }
 ],
 "metadata": {
  "kernelspec": {
   "display_name": "Python 3",
   "language": "python",
   "name": "python3"
  },
  "language_info": {
   "codemirror_mode": {
    "name": "ipython",
    "version": 3
   },
   "file_extension": ".py",
   "mimetype": "text/x-python",
   "name": "python",
   "nbconvert_exporter": "python",
   "pygments_lexer": "ipython3",
   "version": "3.11.9"
  }
 },
 "nbformat": 4,
 "nbformat_minor": 2
}
